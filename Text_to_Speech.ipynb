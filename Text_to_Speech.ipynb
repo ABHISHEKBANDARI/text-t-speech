{
 "cells": [
  {
   "cell_type": "code",
   "execution_count": 1,
   "id": "b06f9d9b",
   "metadata": {},
   "outputs": [],
   "source": [
    "from tkinter import *\n",
    "from gtts import gTTS\n",
    "from playsound import playsound"
   ]
  },
  {
   "cell_type": "code",
   "execution_count": 2,
   "id": "761f68db",
   "metadata": {},
   "outputs": [
    {
     "data": {
      "text/plain": [
       "''"
      ]
     },
     "execution_count": 2,
     "metadata": {},
     "output_type": "execute_result"
    }
   ],
   "source": [
    "root = Tk()\n",
    "\n",
    "root.configure(bg='ghost white')\n",
    "root.title(\"DataFlair - TEXT TO SPEECH\")"
   ]
  },
  {
   "cell_type": "code",
   "execution_count": 3,
   "id": "3124320f",
   "metadata": {},
   "outputs": [],
   "source": [
    "Label(root, text = \"TEXT_TO_SPEECH\", font = \"arial 20 bold\", bg='white smoke').pack()\n",
    "Label(text =\"DataFlair\", font = 'arial 15 bold', bg ='white smoke' , width = '20').pack(side = 'bottom')\n",
    "\n",
    "Msg = StringVar()\n",
    "Label(root,text =\"Enter Text\", font = 'arial 15 bold', bg ='white smoke').place(x=20,y=60)\n",
    "\n",
    "entry_field = Entry(root, textvariable = Msg ,width ='50')\n",
    "entry_field.place(x=20,y=100)"
   ]
  },
  {
   "cell_type": "code",
   "execution_count": 4,
   "id": "27d9388f",
   "metadata": {},
   "outputs": [],
   "source": [
    "def Text_to_speech():\n",
    "    Message = entry_field.get()\n",
    "    speech = gTTS(text = Message)\n",
    "    speech.save('DataFlair.mp3')\n",
    "    playsound('DataFlair.mp3')"
   ]
  },
  {
   "cell_type": "code",
   "execution_count": 5,
   "id": "e59061cd",
   "metadata": {},
   "outputs": [],
   "source": [
    "def Exit():\n",
    "    root.destroy()"
   ]
  },
  {
   "cell_type": "code",
   "execution_count": 6,
   "id": "a3d0d4b8",
   "metadata": {},
   "outputs": [],
   "source": [
    "def Reset():\n",
    "    Msg.set(\"\")"
   ]
  },
  {
   "cell_type": "code",
   "execution_count": 7,
   "id": "1c44537e",
   "metadata": {},
   "outputs": [],
   "source": [
    "Button(root, text = \"PLAY\", font = 'arial 15 bold' , command = Text_to_speech ,width = '4').place(x=25,y=140)\n",
    "\n",
    "Button(root, font = 'arial 15 bold',text = 'EXIT', width = '4' , command = Exit, bg = 'OrangeRed1').place(x=100 , y = 140)\n",
    "\n",
    "Button(root, font = 'arial 15 bold',text = 'RESET', width = '6' , command = Reset).place(x=175 , y = 140)"
   ]
  },
  {
   "cell_type": "code",
   "execution_count": null,
   "id": "ea0d0163",
   "metadata": {},
   "outputs": [
    {
     "name": "stderr",
     "output_type": "stream",
     "text": [
      "\n",
      "    Error 263 for command:\n",
      "        open DataFlair.mp3\n",
      "    The specified device is not open or is not recognized by MCI.\n",
      "\n",
      "    Error 263 for command:\n",
      "        close DataFlair.mp3\n",
      "    The specified device is not open or is not recognized by MCI.\n",
      "Failed to close the file: DataFlair.mp3\n",
      "Exception in Tkinter callback\n",
      "Traceback (most recent call last):\n",
      "  File \"C:\\Users\\Pruth\\anaconda3\\envs\\tensorflow-gpu\\lib\\tkinter\\__init__.py\", line 1892, in __call__\n",
      "    return self.func(*args)\n",
      "  File \"C:\\Users\\Pruth\\AppData\\Local\\Temp/ipykernel_22904/4144206550.py\", line 5, in Text_to_speech\n",
      "    playsound('DataFlair.mp3')\n",
      "  File \"C:\\Users\\Pruth\\anaconda3\\envs\\tensorflow-gpu\\lib\\site-packages\\playsound.py\", line 72, in _playsoundWin\n",
      "    winCommand(u'open {}'.format(sound))\n",
      "  File \"C:\\Users\\Pruth\\anaconda3\\envs\\tensorflow-gpu\\lib\\site-packages\\playsound.py\", line 64, in winCommand\n",
      "    raise PlaysoundException(exceptionMessage)\n",
      "playsound.PlaysoundException: \n",
      "    Error 263 for command:\n",
      "        open DataFlair.mp3\n",
      "    The specified device is not open or is not recognized by MCI.\n",
      "\n",
      "    Error 259 for command:\n",
      "        play DataFlair.mp3 wait\n",
      "    The driver cannot recognize the specified command parameter.\n",
      "Exception in Tkinter callback\n",
      "Traceback (most recent call last):\n",
      "  File \"C:\\Users\\Pruth\\anaconda3\\envs\\tensorflow-gpu\\lib\\tkinter\\__init__.py\", line 1892, in __call__\n",
      "    return self.func(*args)\n",
      "  File \"C:\\Users\\Pruth\\AppData\\Local\\Temp/ipykernel_22904/4144206550.py\", line 5, in Text_to_speech\n",
      "    playsound('DataFlair.mp3')\n",
      "  File \"C:\\Users\\Pruth\\anaconda3\\envs\\tensorflow-gpu\\lib\\site-packages\\playsound.py\", line 73, in _playsoundWin\n",
      "    winCommand(u'play {}{}'.format(sound, ' wait' if block else ''))\n",
      "  File \"C:\\Users\\Pruth\\anaconda3\\envs\\tensorflow-gpu\\lib\\site-packages\\playsound.py\", line 64, in winCommand\n",
      "    raise PlaysoundException(exceptionMessage)\n",
      "playsound.PlaysoundException: \n",
      "    Error 259 for command:\n",
      "        play DataFlair.mp3 wait\n",
      "    The driver cannot recognize the specified command parameter.\n"
     ]
    }
   ],
   "source": [
    "root.mainloop()"
   ]
  },
  {
   "cell_type": "code",
   "execution_count": null,
   "id": "6b8f0eb3",
   "metadata": {},
   "outputs": [],
   "source": []
  }
 ],
 "metadata": {
  "kernelspec": {
   "display_name": "Python 3 (ipykernel)",
   "language": "python",
   "name": "python3"
  },
  "language_info": {
   "codemirror_mode": {
    "name": "ipython",
    "version": 3
   },
   "file_extension": ".py",
   "mimetype": "text/x-python",
   "name": "python",
   "nbconvert_exporter": "python",
   "pygments_lexer": "ipython3",
   "version": "3.9.7"
  }
 },
 "nbformat": 4,
 "nbformat_minor": 5
}
